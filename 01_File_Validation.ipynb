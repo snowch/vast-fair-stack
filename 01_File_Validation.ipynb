{
 "cells": [
  {
   "cell_type": "markdown",
   "metadata": {},
   "source": [
    "# File Validation - Detecting Corrupt or Invalid Files\n",
    "\n",
    "A common problem when downloading scientific data is getting HTML error pages instead of actual data files. This notebook demonstrates how to validate files before processing.\n",
    "\n",
    "## Why Validation Matters\n",
    "\n",
    "- **Download Errors**: URLs may return error pages (HTML) instead of data\n",
    "- **Corrupted Files**: Incomplete downloads or transmission errors\n",
    "- **Wrong Format**: Files may have incorrect extensions\n",
    "\n",
    "## Magic Bytes\n",
    "\n",
    "Every file format has a unique \"magic number\" - specific bytes at the start:\n",
    "- NetCDF: `CDF\\x01` or `CDF\\x02` or HDF5 signature\n",
    "- HDF5: `\\x89HDF\\r\\n\\x1a\\n`\n",
    "- GRIB: `GRIB`\n",
    "- HTML: `<!DOCTYPE` or `<html>`"
   ]
  },
  {
   "cell_type": "code",
   "execution_count": null,
   "metadata": {},
   "outputs": [],
   "source": [
    "# Setup\n",
    "import sys\n",
    "from pathlib import Path\n",
    "sys.path.insert(0, str(Path.cwd().parent))\n",
    "\n",
    "from file_validator import FileValidator, quick_validate\n",
    "import config"
   ]
  },
  {
   "cell_type": "markdown",
   "metadata": {},
   "source": [
    "## Example 1: Valid NetCDF File"
   ]
  },
  {
   "cell_type": "code",
   "execution_count": null,
   "metadata": {},
   "outputs": [],
   "source": [
    "# Validate our sample file from setup\n",
    "sample_file = Path(\"sample_data/ocean_temperature.nc\")\n",
    "\n",
    "if sample_file.exists():\n",
    "    validator = FileValidator()\n",
    "    result = validator.check_file_signature(sample_file)\n",
    "    \n",
    "    print(\"Validation Result:\")\n",
    "    print(f\"  File: {result['filepath']}\")\n",
    "    print(f\"  Size: {result['size_formatted']}\")\n",
    "    print(f\"  Expected Type: {result['expected_type']}\")\n",
    "    print(f\"  Detected Type: {result['detected_type']}\")\n",
    "    print(f\"  Valid: {result['is_valid']}\")\n",
    "    \n",
    "    if result['issues']:\n",
    "        print(f\"  Issues: {result['issues']}\")\n",
    "else:\n",
    "    print(\"Sample file not found. Run notebook 00 first.\")"
   ]
  },
  {
   "cell_type": "markdown",
   "metadata": {},
   "source": [
    "## Example 2: Simulating an HTML Error Page\n",
    "\n",
    "This is what happens when a download returns an error page."
   ]
  },
  {
   "cell_type": "code",
   "execution_count": null,
   "metadata": {},
   "outputs": [],
   "source": [
    "# Create a fake .nc file that's actually HTML\n",
    "fake_file = Path(\"sample_data/fake_data.nc\")\n",
    "\n",
    "with open(fake_file, 'w') as f:\n",
    "    f.write(\"\"\"<!DOCTYPE html>\n",
    "<html>\n",
    "<head><title>404 Not Found</title></head>\n",
    "<body>\n",
    "<h1>Error: File Not Found</h1>\n",
    "<p>The requested file could not be found.</p>\n",
    "</body>\n",
    "</html>\"\"\")\n",
    "\n",
    "# Validate it\n",
    "validator = FileValidator()\n",
    "result = validator.check_file_signature(fake_file)\n",
    "\n",
    "print(\"\\nValidation Result for HTML Error Page:\")\n",
    "print(f\"  Expected: {result['expected_type']}\")\n",
    "print(f\"  Detected: {result['detected_type']}\")\n",
    "print(f\"  Valid: {result['is_valid']}\")\n",
    "print(f\"  Issues: {result['issues']}\")\n",
    "\n",
    "# Get suggestions\n",
    "suggestions = validator.suggest_fixes(result)\n",
    "if suggestions:\n",
    "    print(\"\\n  Suggestions:\")\n",
    "    for suggestion in suggestions:\n",
    "        print(f\"    - {suggestion}\")"
   ]
  },
  {
   "cell_type": "markdown",
   "metadata": {},
   "source": [
    "## Example 3: Inspect File Contents\n",
    "\n",
    "When validation fails, you can inspect the actual bytes to debug."
   ]
  },
  {
   "cell_type": "code",
   "execution_count": null,
   "metadata": {},
   "outputs": [],
   "source": [
    "# Inspect the fake file\n",
    "print(\"Content Inspection:\")\n",
    "content = validator.inspect_file_contents(fake_file, num_bytes=256)\n",
    "print(content)"
   ]
  },
  {
   "cell_type": "markdown",
   "metadata": {},
   "source": [
    "## Example 4: Batch Validation\n",
    "\n",
    "Validate all files in a directory at once."
   ]
  },
  {
   "cell_type": "code",
   "execution_count": null,
   "metadata": {},
   "outputs": [],
   "source": [
    "# Validate all .nc files in sample directory\n",
    "results = validator.validate_directory(Path(\"sample_data\"))\n",
    "\n",
    "print(\"\\nDirectory Validation Results:\")\n",
    "print(f\"  Total files: {results['total_files']}\")\n",
    "print(f\"  Valid: {len(results['valid'])}\")\n",
    "print(f\"  Invalid: {len(results['invalid'])}\")\n",
    "\n",
    "if results['invalid']:\n",
    "    print(\"\\n  Invalid Files:\")\n",
    "    for invalid in results['invalid']:\n",
    "        print(f\"    - {Path(invalid['filepath']).name}: {invalid['issues']}\")\n",
    "\n",
    "if results['issues_summary']:\n",
    "    print(\"\\n  Issue Summary:\")\n",
    "    for issue, count in results['issues_summary'].items():\n",
    "        print(f\"    - {issue}: {count} file(s)\")"
   ]
  },
  {
   "cell_type": "markdown",
   "metadata": {},
   "source": [
    "## Example 5: Quick Validation Function\n",
    "\n",
    "For simple validation checks."
   ]
  },
  {
   "cell_type": "code",
   "execution_count": null,
   "metadata": {},
   "outputs": [],
   "source": [
    "# Quick validation\n",
    "files_to_check = [\n",
    "    \"sample_data/ocean_temperature.nc\",\n",
    "    \"sample_data/fake_data.nc\"\n",
    "]\n",
    "\n",
    "for filepath in files_to_check:\n",
    "    is_valid, message = quick_validate(Path(filepath))\n",
    "    status = \"✓\" if is_valid else \"✗\"\n",
    "    print(f\"{status} {Path(filepath).name}: {message}\")"
   ]
  },
  {
   "cell_type": "markdown",
   "metadata": {},
   "source": [
    "## Best Practices\n",
    "\n",
    "1. **Always validate before processing** - Saves time and prevents errors\n",
    "2. **Check file size** - Very small files are often errors\n",
    "3. **Inspect magic bytes** - Most reliable validation method\n",
    "4. **Handle errors gracefully** - Log issues for later review\n",
    "\n",
    "## Cleanup"
   ]
  },
  {
   "cell_type": "code",
   "execution_count": null,
   "metadata": {},
   "outputs": [],
   "source": [
    "# Remove fake file\n",
    "if fake_file.exists():\n",
    "    fake_file.unlink()\n",
    "    print(\"Cleaned up fake file\")"
   ]
  },
  {
   "cell_type": "markdown",
   "metadata": {},
   "source": [
    "## Next Steps\n",
    "\n",
    "- **Notebook 02**: Learn about metadata extraction from valid files\n",
    "- **Notebook 05**: See validation integrated into batch indexing"
   ]
  }
 ],
 "metadata": {
  "kernelspec": {
   "display_name": "Python 3",
   "language": "python",
   "name": "python3"
  },
  "language_info": {
   "name": "python",
   "version": "3.8.0"
  }
 },
 "nbformat": 4,
 "nbformat_minor": 4
}
