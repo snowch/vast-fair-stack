{
 "cells": [
  {
   "cell_type": "markdown",
   "metadata": {},
   "source": [
    "# File Validation with AI Agents\n",
    "\n",
    "This notebook demonstrates TWO approaches to file validation:\n",
    "1. **Traditional:** Rule-based magic byte checking\n",
    "2. **Agent-Based:** LLM reasoning about file quality\n",
    "\n",
    "## Why Agent-Based Validation?\n",
    "\n",
    "Traditional validation: Fast but rigid\n",
    "- ✓ Checks magic bytes\n",
    "- ✗ Can't reason about ambiguous cases\n",
    "- ✗ Rejects unusual but valid formats\n",
    "\n",
    "Agent validation: Slower but intelligent\n",
    "- ✓ Reasons through ambiguous cases\n",
    "- ✓ Uses multiple tools for evidence\n",
    "- ✓ Explains decisions clearly\n",
    "- ✓ Better for institutional curation"
   ]
  },
  {
   "cell_type": "code",
   "execution_count": 1,
   "metadata": {},
   "outputs": [],
   "source": [
    "# Setup\n",
    "import sys\n",
    "from pathlib import Path\n",
    "sys.path.insert(0, str(Path.cwd().parent / 'lib'))\n",
    "\n",
    "from file_validator import FileValidator, quick_validate\n",
    "from ollama_client import OllamaClient\n",
    "from quality_agent import QualityAssessmentAgent\n",
    "import config"
   ]
  },
  {
   "cell_type": "markdown",
   "metadata": {},
   "source": [
    "## Part 1: Traditional Validation (Baseline)"
   ]
  },
  {
   "cell_type": "code",
   "execution_count": 2,
   "metadata": {},
   "outputs": [],
   "source": [
    "# Create sample files\n",
    "sample_dir = Path(\"sample_data\")\n",
    "sample_dir.mkdir(exist_ok=True)\n",
    "\n",
    "# Valid NetCDF file (from setup)\n",
    "valid_file = sample_dir / \"ocean_temperature.nc\"\n",
    "\n",
    "# Fake file (HTML error page disguised as .nc)\n",
    "fake_file = sample_dir / \"fake_data.nc\"\n",
    "with open(fake_file, 'w') as f:\n",
    "    f.write(\"\"\"<!DOCTYPE html>\n",
    "<html>\n",
    "<head><title>404 Not Found</title></head>\n",
    "<body>\n",
    "<h1>Error: File Not Found</h1>\n",
    "<p>The requested file could not be found.</p>\n",
    "</body>\n",
    "</html>\"\"\")"
   ]
  },
  {
   "cell_type": "code",
   "execution_count": 3,
   "metadata": {},
   "outputs": [
    {
     "name": "stdout",
     "output_type": "stream",
     "text": [
      "Traditional Validation Results:\n",
      "============================================================\n",
      "\n",
      "File: ocean_temperature.nc\n",
      "  Expected: netcdf\n",
      "  Detected: netcdf\n",
      "  Valid: ✓\n",
      "\n",
      "File: fake_data.nc\n",
      "  Expected: netcdf\n",
      "  Detected: html\n",
      "  Valid: ✗\n",
      "  Issues: ['File is HTML (likely download error page)']\n"
     ]
    }
   ],
   "source": [
    "# Traditional validation\n",
    "validator = FileValidator()\n",
    "\n",
    "print(\"Traditional Validation Results:\")\n",
    "print(\"=\" * 60)\n",
    "\n",
    "for filepath in [valid_file, fake_file]:\n",
    "    result = validator.check_file_signature(filepath)\n",
    "    print(f\"\\nFile: {filepath.name}\")\n",
    "    print(f\"  Expected: {result['expected_type']}\")\n",
    "    print(f\"  Detected: {result['detected_type']}\")\n",
    "    print(f\"  Valid: {'✓' if result['is_valid'] else '✗'}\")\n",
    "    if result['issues']:\n",
    "        print(f\"  Issues: {result['issues']}\")"
   ]
  },
  {
   "cell_type": "markdown",
   "metadata": {},
   "source": [
    "## Part 2: Agent-Based Validation\n",
    "\n",
    "Watch the agent reason through file quality step-by-step!"
   ]
  },
  {
   "cell_type": "code",
   "execution_count": 4,
   "metadata": {},
   "outputs": [
    {
     "name": "stdout",
     "output_type": "stream",
     "text": [
      "Initializing AI Agent...\n",
      "✓ Connected to Ollama at http://localhost:11434\n",
      "  Available models: llama3.2:3b\n",
      "\n",
      "Testing model: llama3.2:3b\n",
      "============================================================\n",
      "Test prompt: What is 2+2? Answer with just the number.\n",
      "Response: 4\n",
      "✓ Model is working!\n"
     ]
    },
    {
     "data": {
      "text/plain": [
       "True"
      ]
     },
     "execution_count": 4,
     "metadata": {},
     "output_type": "execute_result"
    }
   ],
   "source": [
    "# Initialize Ollama client\n",
    "print(\"Initializing AI Agent...\")\n",
    "ollama = OllamaClient()\n",
    "\n",
    "# Test connection\n",
    "ollama.test_model()"
   ]
  },
  {
   "cell_type": "code",
   "execution_count": 5,
   "metadata": {},
   "outputs": [
    {
     "name": "stdout",
     "output_type": "stream",
     "text": [
      "\n",
      "Creating Quality Assessment Agent...\n",
      "  [QualityAgent] Registered tool: check_signature\n",
      "  [QualityAgent] Registered tool: get_file_info\n",
      "  [QualityAgent] Registered tool: inspect_content\n",
      "✓ Agent ready with tools:\n",
      "\n"
     ]
    }
   ],
   "source": [
    "# Create quality assessment agent\n",
    "print(\"\\nCreating Quality Assessment Agent...\")\n",
    "quality_agent = QualityAssessmentAgent(ollama)\n",
    "print(\"✓ Agent ready with tools:\\n\")"
   ]
  },
  {
   "cell_type": "markdown",
   "metadata": {},
   "source": [
    "### Test 1: Valid NetCDF File\n",
    "\n",
    "Watch how the agent uses multiple tools to assess quality:"
   ]
  },
  {
   "cell_type": "code",
   "execution_count": 6,
   "metadata": {},
   "outputs": [
    {
     "name": "stdout",
     "output_type": "stream",
     "text": [
      "\n",
      "======================================================================\n",
      "AGENT ASSESSMENT: Valid NetCDF File\n",
      "======================================================================\n",
      "\n",
      "[QualityAgent] Starting analysis...\n",
      "============================================================\n",
      "\n",
      "[QualityAgent] Step 1: Thinking...\n",
      "[QualityAgent] Using tool: get_file_info\n",
      "  Parameters: {'filepath': 'sample_data/ocean_temperature.nc'}\n",
      "  Result: {'filename': 'ocean_temperature.nc', 'extension': '.nc', 'size_bytes': 34266, 'size_mb': 0.03}\n",
      "\n",
      "[QualityAgent] Step 2: Thinking...\n",
      "[QualityAgent] Note: Already called get_file_info, using cached result\n",
      "  Result: {'filename': 'ocean_temperature.nc', 'extension': '.nc', 'size_bytes': 34266, 'size_mb': 0.03}\n",
      "\n",
      "[QualityAgent] Step 3: Thinking...\n",
      "[QualityAgent] Using tool: check_signature\n",
      "  Parameters: {'filepath': 'sample_data/ocean_temperature.nc'}\n",
      "  Result: {'expected_type': 'netcdf', 'detected_type': 'netcdf', 'is_valid': True, 'issues': [], 'size': '33.46 KB'}\n",
      "\n",
      "[QualityAgent] Step 4: Thinking...\n",
      "\n",
      "[QualityAgent] Decision reached!\n",
      "  Decision: ACCEPT\n",
      "  Confidence: 1.00\n",
      "\n",
      "======================================================================\n",
      "FINAL DECISION\n",
      "======================================================================\n",
      "Decision: ACCEPT\n",
      "Confidence: 1.00\n",
      "Reasoning: The file matches its expected type and has been verified for consistency in size and format.\n",
      "Processing time: 28.0s\n",
      "Steps taken: 4\n"
     ]
    }
   ],
   "source": [
    "print(\"\\n\" + \"=\" * 70)\n",
    "print(\"AGENT ASSESSMENT: Valid NetCDF File\")\n",
    "print(\"=\" * 70)\n",
    "\n",
    "decision = quality_agent.assess_file(str(valid_file))\n",
    "\n",
    "print(\"\\n\" + \"=\" * 70)\n",
    "print(\"FINAL DECISION\")\n",
    "print(\"=\" * 70)\n",
    "print(f\"Decision: {decision.decision}\")\n",
    "print(f\"Confidence: {decision.confidence:.2f}\")\n",
    "print(f\"Reasoning: {decision.reasoning}\")\n",
    "print(f\"Processing time: {decision.processing_time:.1f}s\")\n",
    "print(f\"Steps taken: {len(decision.thoughts)}\")"
   ]
  },
  {
   "cell_type": "markdown",
   "metadata": {},
   "source": [
    "### Test 2: HTML Error Page (Disguised as .nc)\n",
    "\n",
    "Watch the agent detect the deception:"
   ]
  },
  {
   "cell_type": "code",
   "execution_count": 7,
   "metadata": {},
   "outputs": [
    {
     "name": "stdout",
     "output_type": "stream",
     "text": [
      "\n",
      "======================================================================\n",
      "AGENT ASSESSMENT: Fake File (HTML disguised as .nc)\n",
      "======================================================================\n",
      "\n",
      "[QualityAgent] Starting analysis...\n",
      "============================================================\n",
      "\n",
      "[QualityAgent] Step 1: Thinking...\n",
      "[QualityAgent] Using tool: get_file_info\n",
      "  Parameters: {'filepath': 'sample_data/fake_data.nc'}\n",
      "  Result: {'filename': 'fake_data.nc', 'extension': '.nc', 'size_bytes': 164, 'size_mb': 0.0}\n",
      "\n",
      "[QualityAgent] Step 2: Thinking...\n",
      "[QualityAgent] Using tool: check_signature\n",
      "  Parameters: {'filepath': 'sample_data/fake_data.nc'}\n",
      "  Result: {'expected_type': 'netcdf', 'detected_type': 'html', 'is_valid': False, 'issues': ['File is HTML (likely download error page)'], 'size': '164.00 B'}\n",
      "\n",
      "[QualityAgent] Step 3: Thinking...\n",
      "[QualityAgent] Using tool: inspect_content\n",
      "  Parameters: {'filepath': 'sample_data/fake_data.nc'}\n",
      "  Result: {'appears_text': True, 'appears_html': True, 'sample_text': '<!DOCTYPE html>\\n<html>\\n<head><title>404 Not Found</title></head>\\n<body>\\n<h1>Error: File Not Found</h1>\\n<p>The requested file could not\n",
      "\n",
      "[QualityAgent] Step 4: Thinking...\n",
      "\n",
      "[QualityAgent] Decision reached!\n",
      "  Decision: REJECT\n",
      "  Confidence: 0.80\n",
      "\n",
      "======================================================================\n",
      "FINAL DECISION\n",
      "======================================================================\n",
      "Decision: REJECT\n",
      "Confidence: 0.80\n",
      "Reasoning: The file extension is '.nc', but the magic bytes indicate it's an HTML file, which suggests a download error page. Additionally, the content of the file appears to be an HTML document with a 404 Not Found title and message, further supporting this conclusion.\n",
      "Processing time: 27.4s\n",
      "Steps taken: 4\n"
     ]
    }
   ],
   "source": [
    "print(\"\\n\" + \"=\" * 70)\n",
    "print(\"AGENT ASSESSMENT: Fake File (HTML disguised as .nc)\")\n",
    "print(\"=\" * 70)\n",
    "\n",
    "decision = quality_agent.assess_file(str(fake_file))\n",
    "\n",
    "print(\"\\n\" + \"=\" * 70)\n",
    "print(\"FINAL DECISION\")\n",
    "print(\"=\" * 70)\n",
    "print(f\"Decision: {decision.decision}\")\n",
    "print(f\"Confidence: {decision.confidence:.2f}\")\n",
    "print(f\"Reasoning: {decision.reasoning}\")\n",
    "print(f\"Processing time: {decision.processing_time:.1f}s\")\n",
    "print(f\"Steps taken: {len(decision.thoughts)}\")"
   ]
  },
  {
   "cell_type": "markdown",
   "metadata": {},
   "source": [
    "### Test 3: Detailed Reasoning Trace\n",
    "\n",
    "Inspect the agent's thought process:"
   ]
  },
  {
   "cell_type": "code",
   "execution_count": 8,
   "metadata": {},
   "outputs": [
    {
     "name": "stdout",
     "output_type": "stream",
     "text": [
      "\n",
      "Agent Reasoning Trace:\n",
      "======================================================================\n",
      "\n",
      "Step 1:\n",
      "  Action: tool_call\n",
      "  Tool: get_file_info\n",
      "  Parameters: {'filepath': 'sample_data/fake_data.nc'}\n",
      "  Result: {'filename': 'fake_data.nc', 'extension': '.nc', 'size_bytes': 164, 'size_mb': 0.0}...\n",
      "  Reasoning: To start, I will use the 'get_file_info' tool to check the size and extension of the file.\n",
      "\n",
      "USE_TOOL: get_file_info\n",
      "PARAMS: {\"filepath\": \"sample_data/fake_data.nc\"}\n",
      "\n",
      "This will provide me with informat...\n",
      "\n",
      "Step 2:\n",
      "  Action: tool_call\n",
      "  Tool: check_signature\n",
      "  Parameters: {'filepath': 'sample_data/fake_data.nc'}\n",
      "  Result: {'expected_type': 'netcdf', 'detected_type': 'html', 'is_valid': False, 'issues': ['File is HTML (likely download error page)'], 'size': '164.00 B'}...\n",
      "  Reasoning: Given the context and the results gathered so far, I will use the \"check_signature\" tool to verify the file type.\n",
      "\n",
      "USE_TOOL: check_signature\n",
      "PARAMS: {\"filepath\": \"sample_data/fake_data.nc\"}\n",
      "\n",
      "This tool...\n",
      "\n",
      "Step 3:\n",
      "  Action: tool_call\n",
      "  Tool: inspect_content\n",
      "  Parameters: {'filepath': 'sample_data/fake_data.nc'}\n",
      "  Result: {'appears_text': True, 'appears_html': True, 'sample_text': '<!DOCTYPE html>\\n<html>\\n<head><title>404 Not Found</title></head>\\n<body>\\n<h1>Error: File Not Found</h1>\\n<p>The requested file could not...\n",
      "  Reasoning: Since the detected type is HTML and the file extension is .nc, which does not match, I need to inspect the content of the file to determine its actual purpose.\n",
      "\n",
      "USE_TOOL: inspect_content\n",
      "PARAMS: {\"fil...\n",
      "\n",
      "Step 4:\n",
      "  Action: decision\n",
      "  Reasoning: DECISION: REJECT\n",
      "CONFIDENCE: 0.8\n",
      "REASONING: The file extension is '.nc', but the magic bytes indicate it's an HTML file, which suggests a download error page. Additionally, the content of the file app...\n"
     ]
    }
   ],
   "source": [
    "print(\"\\nAgent Reasoning Trace:\")\n",
    "print(\"=\" * 70)\n",
    "\n",
    "for i, thought in enumerate(decision.thoughts, 1):\n",
    "    print(f\"\\nStep {i}:\")\n",
    "    print(f\"  Action: {thought.action}\")\n",
    "    if thought.tool_name:\n",
    "        print(f\"  Tool: {thought.tool_name}\")\n",
    "        print(f\"  Parameters: {thought.tool_params}\")\n",
    "        print(f\"  Result: {str(thought.result)[:200]}...\")\n",
    "    print(f\"  Reasoning: {thought.reasoning[:200]}...\")"
   ]
  },
  {
   "cell_type": "markdown",
   "metadata": {},
   "source": [
    "## Part 3: Comparison - Traditional vs Agent\n",
    "\n",
    "### Speed Comparison"
   ]
  },
  {
   "cell_type": "code",
   "execution_count": 9,
   "metadata": {},
   "outputs": [
    {
     "name": "stdout",
     "output_type": "stream",
     "text": [
      "Speed Comparison:\n",
      "============================================================\n",
      "Traditional validation: 0.04ms per file\n",
      "Agent validation: ~27.4s per file\n",
      "\n",
      "Tradeoff: Agent is ~613628x slower\n",
      "But provides reasoning and handles ambiguous cases!\n"
     ]
    }
   ],
   "source": [
    "import time\n",
    "\n",
    "print(\"Speed Comparison:\")\n",
    "print(\"=\" * 60)\n",
    "\n",
    "# Traditional\n",
    "start = time.time()\n",
    "for _ in range(10):\n",
    "    validator.check_file_signature(valid_file)\n",
    "traditional_time = (time.time() - start) / 10\n",
    "\n",
    "print(f\"Traditional validation: {traditional_time*1000:.2f}ms per file\")\n",
    "print(f\"Agent validation: ~{decision.processing_time:.1f}s per file\")\n",
    "print(f\"\\nTradeoff: Agent is ~{decision.processing_time/traditional_time:.0f}x slower\")\n",
    "print(f\"But provides reasoning and handles ambiguous cases!\")"
   ]
  },
  {
   "cell_type": "markdown",
   "metadata": {},
   "source": [
    "### Accuracy Comparison\n",
    "\n",
    "Both catch the fake file, but agent provides explanation:"
   ]
  },
  {
   "cell_type": "code",
   "execution_count": 10,
   "metadata": {},
   "outputs": [
    {
     "name": "stdout",
     "output_type": "stream",
     "text": [
      "\n",
      "Accuracy Comparison:\n",
      "============================================================\n",
      "\n",
      "Traditional:\n",
      "  ✓ Detects HTML\n",
      "  ✗ Just says 'invalid'\n",
      "  ✗ No explanation\n",
      "\n",
      "Agent:\n",
      "  ✓ Detects HTML\n",
      "  ✓ Explains WHY invalid\n",
      "  ✓ Shows reasoning steps\n",
      "  ✓ Can handle ambiguous cases\n"
     ]
    }
   ],
   "source": [
    "print(\"\\nAccuracy Comparison:\")\n",
    "print(\"=\" * 60)\n",
    "print(\"\\nTraditional:\")\n",
    "print(\"  ✓ Detects HTML\")\n",
    "print(\"  ✗ Just says 'invalid'\")\n",
    "print(\"  ✗ No explanation\")\n",
    "print(\"\\nAgent:\")\n",
    "print(\"  ✓ Detects HTML\")\n",
    "print(\"  ✓ Explains WHY invalid\")\n",
    "print(\"  ✓ Shows reasoning steps\")\n",
    "print(\"  ✓ Can handle ambiguous cases\")"
   ]
  },
  {
   "cell_type": "markdown",
   "metadata": {},
   "source": [
    "## Part 4: Demo - Ambiguous Case\n",
    "\n",
    "Create a file that's unusual but might be valid:"
   ]
  },
  {
   "cell_type": "code",
   "execution_count": 11,
   "metadata": {},
   "outputs": [
    {
     "name": "stdout",
     "output_type": "stream",
     "text": [
      "Created unusual custom format file\n",
      "Size: 4011 bytes\n"
     ]
    }
   ],
   "source": [
    "# Create unusual file - custom binary format\n",
    "unusual_file = sample_dir / \"custom_format.dat\"\n",
    "with open(unusual_file, 'wb') as f:\n",
    "    # Write custom header\n",
    "    f.write(b'CUSTOMFMT\\x01\\x00')\n",
    "    # Write some data\n",
    "    import struct\n",
    "    for i in range(1000):\n",
    "        f.write(struct.pack('f', i * 0.1))\n",
    "\n",
    "print(\"Created unusual custom format file\")\n",
    "print(f\"Size: {unusual_file.stat().st_size} bytes\")"
   ]
  },
  {
   "cell_type": "code",
   "execution_count": 12,
   "metadata": {},
   "outputs": [
    {
     "name": "stdout",
     "output_type": "stream",
     "text": [
      "\n",
      "Traditional validator:\n",
      "  Decision: REJECT\n",
      "  Detected type: None\n",
      "  Issues: ['Unknown file type']\n"
     ]
    }
   ],
   "source": [
    "print(\"\\nTraditional validator:\")\n",
    "result = validator.check_file_signature(unusual_file)\n",
    "print(f\"  Decision: {'ACCEPT' if result['is_valid'] else 'REJECT'}\")\n",
    "print(f\"  Detected type: {result['detected_type']}\")\n",
    "print(f\"  Issues: {result['issues']}\")"
   ]
  },
  {
   "cell_type": "code",
   "execution_count": 13,
   "metadata": {},
   "outputs": [
    {
     "name": "stdout",
     "output_type": "stream",
     "text": [
      "\n",
      "======================================================================\n",
      "AGENT ASSESSMENT: Unusual Format\n",
      "======================================================================\n",
      "\n",
      "[QualityAgent] Starting analysis...\n",
      "============================================================\n",
      "\n",
      "[QualityAgent] Step 1: Thinking...\n",
      "[QualityAgent] Using tool: get_file_info\n",
      "  Parameters: {'filepath': 'sample_data/custom_format.dat'}\n",
      "  Result: {'filename': 'custom_format.dat', 'extension': '.dat', 'size_bytes': 4011, 'size_mb': 0.0}\n",
      "\n",
      "[QualityAgent] Step 2: Thinking...\n",
      "[QualityAgent] Using tool: check_signature\n",
      "  Parameters: {'filepath': 'sample_data/custom_format.dat'}\n",
      "  Result: {'expected_type': None, 'detected_type': None, 'is_valid': False, 'issues': ['Unknown file type'], 'size': '3.92 KB'}\n",
      "\n",
      "[QualityAgent] Step 3: Thinking...\n",
      "[QualityAgent] Using tool: inspect_content\n",
      "  Parameters: {'filepath': 'sample_data/custom_format.dat'}\n",
      "  Result: {'appears_text': True, 'appears_html': False, 'sample_text': 'CUSTOMFMT\\x01\\x00\\x00\\x00\\x00\\x00���=��L>���>���>\\x00\\x00\\x00?��\\x19?333?��L?fff?\\x00\\x00�?�̌?���?ff�?33�?\\x00\\x00�?���?���?ff�?33�?\\x00\\x\n",
      "\n",
      "[QualityAgent] Step 4: Thinking...\n",
      "\n",
      "[QualityAgent] Decision reached!\n",
      "  Decision: REJECT\n",
      "  Confidence: 0.80\n",
      "\n",
      "======================================================================\n",
      "FINAL DECISION\n",
      "======================================================================\n",
      "Decision: REJECT\n",
      "Confidence: 0.80\n",
      "Reasoning: The file appears to be corrupted, as indicated by the 'is_valid' flag being False in the check_signature result. Additionally, the detected_type is None and issues include an Unknown file type, which suggests that the file may not be a standard format for this task.\n",
      "\n",
      "Notice: Agent may suggest MANUAL_REVIEW for unknown formats,\n",
      "rather than auto-rejecting potentially valid data!\n"
     ]
    }
   ],
   "source": [
    "print(\"\\n\" + \"=\" * 70)\n",
    "print(\"AGENT ASSESSMENT: Unusual Format\")\n",
    "print(\"=\" * 70)\n",
    "\n",
    "decision = quality_agent.assess_file(str(unusual_file))\n",
    "\n",
    "print(\"\\n\" + \"=\" * 70)\n",
    "print(\"FINAL DECISION\")\n",
    "print(\"=\" * 70)\n",
    "print(f\"Decision: {decision.decision}\")\n",
    "print(f\"Confidence: {decision.confidence:.2f}\")\n",
    "print(f\"Reasoning: {decision.reasoning}\")\n",
    "print(\"\\nNotice: Agent may suggest MANUAL_REVIEW for unknown formats,\")\n",
    "print(\"rather than auto-rejecting potentially valid data!\")"
   ]
  },
  {
   "cell_type": "markdown",
   "metadata": {},
   "source": [
    "## Key Insights\n",
    "\n",
    "### When to Use Traditional Validation:\n",
    "- Real-time user uploads (need <1s response)\n",
    "- High-confidence common formats (NetCDF, HDF5)\n",
    "- Batch processing thousands of files\n",
    "\n",
    "### When to Use Agent Validation:\n",
    "- **Institutional curation** (overnight processing is fine)\n",
    "- **Unusual formats** (need reasoning, not rules)\n",
    "- **Ambiguous cases** (better than auto-reject)\n",
    "- **Explanation required** (for research data repositories)\n",
    "\n",
    "### For HPC Data Centers:\n",
    "**Use Hybrid Approach:**\n",
    "1. Fast validation for obvious cases (90%)\n",
    "2. Agent validation for ambiguous cases (10%)\n",
    "3. Result: Best of both worlds!\n",
    "\n",
    "## Next Steps\n",
    "\n",
    "- **Notebook 02**: Metadata Enrichment Agent\n",
    "- **Notebook 04**: Discovery Agent\n",
    "- **Notebook 07**: Full Multi-Agent Workflow"
   ]
  },
  {
   "cell_type": "code",
   "execution_count": 14,
   "metadata": {},
   "outputs": [
    {
     "name": "stdout",
     "output_type": "stream",
     "text": [
      "\n",
      "✓ Cleanup complete\n"
     ]
    }
   ],
   "source": [
    "# Cleanup\n",
    "fake_file.unlink()\n",
    "unusual_file.unlink()\n",
    "print(\"\\n✓ Cleanup complete\")"
   ]
  }
 ],
 "metadata": {
  "kernelspec": {
   "display_name": "Python 3 (ipykernel)",
   "language": "python",
   "name": "python3"
  },
  "language_info": {
   "codemirror_mode": {
    "name": "ipython",
    "version": 3
   },
   "file_extension": ".py",
   "mimetype": "text/x-python",
   "name": "python",
   "nbconvert_exporter": "python",
   "pygments_lexer": "ipython3",
   "version": "3.11.4"
  }
 },
 "nbformat": 4,
 "nbformat_minor": 4
}
