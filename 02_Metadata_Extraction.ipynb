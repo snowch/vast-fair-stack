{
 "cells": [
  {
   "cell_type": "markdown",
   "metadata": {},
   "source": [
    "# Metadata Extraction from Scientific Data Files\n",
    "\n",
    "This notebook demonstrates how to extract metadata from NetCDF, HDF5, and GRIB files.\n",
    "\n",
    "## What Gets Extracted?\n",
    "\n",
    "- **Global Attributes**: Title, institution, conventions, etc.\n",
    "- **Dimensions**: Time, latitude, longitude, depth, etc.\n",
    "- **Variables**: Names, units, descriptions, data types\n",
    "- **Filename Hints**: Dates, versions, variable names from filename\n",
    "\n",
    "## Challenge: Minimal Metadata\n",
    "\n",
    "Many real-world files have minimal embedded metadata. The system extracts what it can and creates searchable text from variable names, dimensions, and filename patterns."
   ]
  },
  {
   "cell_type": "code",
   "execution_count": null,
   "metadata": {},
   "outputs": [],
   "source": [
    "# Setup\n",
    "import sys\n",
    "from pathlib import Path\n",
    "import json\n",
    "sys.path.insert(0, str(Path.cwd().parent))\n",
    "\n",
    "from metadata_extractors import MetadataExtractor, NetCDFExtractor, HDF5Extractor\n",
    "from utils import pretty_print_dict"
   ]
  },
  {
   "cell_type": "markdown",
   "metadata": {},
   "source": [
    "## Example 1: Extract from NetCDF"
   ]
  },
  {
   "cell_type": "code",
   "execution_count": null,
   "metadata": {},
   "outputs": [],
   "source": [
    "# Extract metadata from our sample file\n",
    "sample_file = Path(\"sample_data/ocean_temperature.nc\")\n",
    "\n",
    "if sample_file.exists():\n",
    "    extractor = MetadataExtractor()\n",
    "    metadata = extractor.extract(sample_file)\n",
    "    \n",
    "    print(\"Extracted Metadata:\")\n",
    "    print(\"=\" * 60)\n",
    "    \n",
    "    # Show key fields\n",
    "    print(f\"\\nFile: {metadata.get('filename')}\")\n",
    "    print(f\"Format: {metadata.get('format')}\")\n",
    "    print(f\"Title: {metadata.get('title')}\")\n",
    "    print(f\"Institution: {metadata.get('institution')}\")\n",
    "    print(f\"Source: {metadata.get('source')}\")\n",
    "    \n",
    "    # Dimensions\n",
    "    print(f\"\\nDimensions:\")\n",
    "    for dim, size in metadata.get('dimensions', {}).items():\n",
    "        print(f\"  {dim}: {size}\")\n",
    "    \n",
    "    # Variables\n",
    "    print(f\"\\nVariables ({metadata.get('num_variables', 0)} total):\")\n",
    "    for var_name, var_info in metadata.get('variables', {}).items():\n",
    "        attrs = var_info.get('attributes', {})\n",
    "        units = attrs.get('units', 'no units')\n",
    "        long_name = attrs.get('long_name', var_name)\n",
    "        print(f\"  {var_name}: {long_name} [{units}]\")\n",
    "else:\n",
    "    print(\"Sample file not found. Run notebook 00 first.\")"
   ]
  },
  {
   "cell_type": "markdown",
   "metadata": {},
   "source": [
    "## Example 2: Create Searchable Text\n",
    "\n",
    "The extracted metadata is converted to searchable text for embedding generation."
   ]
  },
  {
   "cell_type": "code",
   "execution_count": null,
   "metadata": {},
   "outputs": [],
   "source": [
    "if sample_file.exists():\n",
    "    # Create searchable text\n",
    "    searchable_text = extractor.create_searchable_text(metadata)\n",
    "    \n",
    "    print(\"Searchable Text:\")\n",
    "    print(\"=\" * 60)\n",
    "    print(searchable_text)\n",
    "    print(\"\\n\" + \"=\" * 60)\n",
    "    print(f\"Length: {len(searchable_text)} characters\")"
   ]
  },
  {
   "cell_type": "markdown",
   "metadata": {},
   "source": [
    "## Example 3: Handling Files with Minimal Metadata\n",
    "\n",
    "Let's create a file with minimal metadata to show how the system handles it."
   ]
  },
  {
   "cell_type": "code",
   "execution_count": null,
   "metadata": {},
   "outputs": [],
   "source": [
    "import netCDF4\n",
    "import numpy as np\n",
    "\n",
    "# Create a file with minimal metadata (common in real-world data)\n",
    "minimal_file = Path(\"sample_data/minimal_sst_20230515.nc\")\n",
    "\n",
    "with netCDF4.Dataset(minimal_file, 'w') as ds:\n",
    "    # NO global attributes\n",
    "    \n",
    "    # Just dimensions and variables\n",
    "    ds.createDimension('time', 1)\n",
    "    ds.createDimension('lat', 180)\n",
    "    ds.createDimension('lon', 360)\n",
    "    \n",
    "    time = ds.createVariable('time', 'f8', ('time',))\n",
    "    time[:] = [0]\n",
    "    \n",
    "    lat = ds.createVariable('lat', 'f4', ('lat',))\n",
    "    lat[:] = np.linspace(-89.5, 89.5, 180)\n",
    "    \n",
    "    lon = ds.createVariable('lon', 'f4', ('lon',))\n",
    "    lon[:] = np.linspace(-179.5, 179.5, 360)\n",
    "    \n",
    "    # Variable with minimal metadata\n",
    "    sst = ds.createVariable('sst', 'f4', ('time', 'lat', 'lon'))\n",
    "    sst[:] = np.random.randn(1, 180, 360) * 5 + 15\n",
    "\n",
    "print(f\"Created minimal metadata file: {minimal_file}\")"
   ]
  },
  {
   "cell_type": "code",
   "execution_count": null,
   "metadata": {},
   "outputs": [],
   "source": [
    "# Extract from minimal file\n",
    "metadata_minimal = extractor.extract(minimal_file)\n",
    "\n",
    "print(\"\\nMetadata from Minimal File:\")\n",
    "print(\"=\" * 60)\n",
    "print(f\"Title: {metadata_minimal.get('title') or '(none)'}\")\n",
    "print(f\"Institution: {metadata_minimal.get('institution') or '(none)'}\")\n",
    "print(f\"\\nVariables: {list(metadata_minimal.get('variables', {}).keys())}\")\n",
    "print(f\"Dimensions: {metadata_minimal.get('dimensions')}\")\n",
    "\n",
    "# Check filename hints\n",
    "if 'date_from_filename' in metadata_minimal:\n",
    "    print(f\"Date from filename: {metadata_minimal['date_from_filename']}\")\n",
    "if 'variables_hint' in metadata_minimal:\n",
    "    print(f\"Variable hints: {metadata_minimal['variables_hint']}\")"
   ]
  },
  {
   "cell_type": "code",
   "execution_count": null,
   "metadata": {},
   "outputs": [],
   "source": [
    "# Even with minimal metadata, we can create searchable text\n",
    "searchable_minimal = extractor.create_searchable_text(metadata_minimal)\n",
    "\n",
    "print(\"\\nSearchable Text from Minimal File:\")\n",
    "print(\"=\" * 60)\n",
    "print(searchable_minimal)\n",
    "print(\"\\n\" + \"=\" * 60)\n",
    "\n",
    "print(\"\\nKey Observations:\")\n",
    "print(\"- Extracted 'sst' variable name (sea surface temperature)\")\n",
    "print(\"- Got date '2023-05-15' from filename\")\n",
    "print(\"- Identified dimensions (180x360 suggests global grid)\")\n",
    "print(\"- Variable name 'sst' decoded to 'sea_surface_temperature'\")"
   ]
  },
  {
   "cell_type": "markdown",
   "metadata": {},
   "source": [
    "## Example 4: Format-Specific Extraction\n",
    "\n",
    "Different formats store metadata differently."
   ]
  },
  {
   "cell_type": "code",
   "execution_count": null,
   "metadata": {},
   "outputs": [],
   "source": [
    "# NetCDF-specific extractor\n",
    "nc_extractor = NetCDFExtractor()\n",
    "nc_metadata = nc_extractor.extract(sample_file)\n",
    "\n",
    "print(\"NetCDF-Specific Metadata:\")\n",
    "print(f\"\\nGlobal Attributes:\")\n",
    "for key, value in nc_metadata.get('global_attributes', {}).items():\n",
    "    print(f\"  {key}: {value}\")"
   ]
  },
  {
   "cell_type": "markdown",
   "metadata": {},
   "source": [
    "## Example 5: Save Metadata as JSON\n",
    "\n",
    "Metadata can be exported for other tools."
   ]
  },
  {
   "cell_type": "code",
   "execution_count": null,
   "metadata": {},
   "outputs": [],
   "source": [
    "from utils import save_json\n",
    "\n",
    "# Save metadata\n",
    "output_file = Path(\"sample_data/ocean_temperature_metadata.json\")\n",
    "save_json(metadata, output_file)\n",
    "print(f\"Metadata saved to: {output_file}\")\n",
    "\n",
    "# Pretty print a sample\n",
    "print(\"\\nMetadata Structure (partial):\")\n",
    "print(json.dumps({\n",
    "    'format': metadata.get('format'),\n",
    "    'dimensions': metadata.get('dimensions'),\n",
    "    'num_variables': metadata.get('num_variables')\n",
    "}, indent=2))"
   ]
  },
  {
   "cell_type": "markdown",
   "metadata": {},
   "source": [
    "## Key Takeaways\n",
    "\n",
    "1. **Metadata varies widely** - Some files are rich, others minimal\n",
    "2. **Multiple extraction strategies** - Format-specific + filename hints\n",
    "3. **Searchable text creation** - Combines all available information\n",
    "4. **Graceful degradation** - Works even with minimal metadata\n",
    "\n",
    "## Next Steps\n",
    "\n",
    "- **Notebook 03**: Discover companion documentation\n",
    "- **Notebook 04**: Generate embeddings and search"
   ]
  }
 ],
 "metadata": {
  "kernelspec": {
   "display_name": "Python 3",
   "language": "python",
   "name": "python3"
  },
  "language_info": {
   "name": "python",
   "version": "3.8.0"
  }
 },
 "nbformat": 4,
 "nbformat_minor": 4
}
