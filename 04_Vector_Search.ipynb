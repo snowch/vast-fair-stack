{
 "cells": [
  {
   "cell_type": "markdown",
   "metadata": {},
   "source": [
    "# Vector Search with Embeddings\n",
    "\n",
    "This notebook demonstrates how semantic search works using:\n",
    "1. **Sentence Transformers**: Convert text to vector embeddings\n",
    "2. **FAISS**: Fast similarity search in vector space\n",
    "3. **Cosine Similarity**: Measure how similar queries are to datasets\n",
    "\n",
    "## Why Vector Search?\n",
    "\n",
    "Traditional search matches exact keywords. Vector search understands meaning:\n",
    "- \"ocean temp\" finds \"sea surface temperature\"\n",
    "- \"climate data\" finds \"atmospheric measurements\"\n",
    "- Works even with abbreviations and synonyms"
   ]
  },
  {
   "cell_type": "code",
   "execution_count": 1,
   "metadata": {},
   "outputs": [],
   "source": [
    "# Setup\n",
    "import sys\n",
    "from pathlib import Path\n",
    "import numpy as np\n",
    "sys.path.insert(0, str(Path.cwd().parent))\n",
    "\n",
    "from embedding_generator import EmbeddingGenerator\n",
    "from vector_index import VectorIndex\n",
    "from search_engine import FAIRSearchEngine"
   ]
  },
  {
   "cell_type": "markdown",
   "metadata": {},
   "source": [
    "## Example 1: Generate Embeddings"
   ]
  },
  {
   "cell_type": "code",
   "execution_count": 2,
   "metadata": {},
   "outputs": [
    {
     "name": "stdout",
     "output_type": "stream",
     "text": [
      "Loading embedding model: sentence-transformers/all-MiniLM-L6-v2\n",
      "Model loaded. Embedding dimension: 384\n",
      "Generated 4 embeddings\n",
      "Embedding shape: (4, 384)\n",
      "Embedding dimension: 384\n",
      "\n",
      "First embedding (first 10 values):\n",
      "[-0.03911696  0.00684475 -0.00633144  0.01558108 -0.04790843 -0.06568947\n",
      "  0.01690703 -0.00748422  0.03100628  0.03318202]\n"
     ]
    }
   ],
   "source": [
    "# Initialize embedding generator\n",
    "generator = EmbeddingGenerator()\n",
    "\n",
    "# Example texts\n",
    "texts = [\n",
    "    \"sea surface temperature measurements from satellite\",\n",
    "    \"ocean temperature data from MODIS\",\n",
    "    \"atmospheric pressure at sea level\",\n",
    "    \"wind speed and direction measurements\"\n",
    "]\n",
    "\n",
    "# Generate embeddings\n",
    "embeddings = generator.encode(texts)\n",
    "\n",
    "print(f\"Generated {len(embeddings)} embeddings\")\n",
    "print(f\"Embedding shape: {embeddings.shape}\")\n",
    "print(f\"Embedding dimension: {embeddings.shape[1]}\")\n",
    "print(f\"\\nFirst embedding (first 10 values):\")\n",
    "print(embeddings[0][:10])"
   ]
  },
  {
   "cell_type": "markdown",
   "metadata": {},
   "source": [
    "## Example 2: Compute Similarity\n",
    "\n",
    "Embeddings can be compared using cosine similarity."
   ]
  },
  {
   "cell_type": "code",
   "execution_count": 3,
   "metadata": {},
   "outputs": [
    {
     "name": "stdout",
     "output_type": "stream",
     "text": [
      "Similarity between ocean temperature texts: 0.655\n",
      "Similarity between ocean temp and pressure: 0.424\n",
      "\n",
      "Note: Similar texts have scores closer to 1.0\n"
     ]
    }
   ],
   "source": [
    "# Compute similarity between texts\n",
    "from numpy.linalg import norm\n",
    "\n",
    "def cosine_similarity(a, b):\n",
    "    return np.dot(a, b) / (norm(a) * norm(b))\n",
    "\n",
    "# Compare first two texts (both about ocean temperature)\n",
    "sim_ocean = cosine_similarity(embeddings[0], embeddings[1])\n",
    "print(f\"Similarity between ocean temperature texts: {sim_ocean:.3f}\")\n",
    "\n",
    "# Compare ocean temp with atmospheric pressure (different topics)\n",
    "sim_different = cosine_similarity(embeddings[0], embeddings[2])\n",
    "print(f\"Similarity between ocean temp and pressure: {sim_different:.3f}\")\n",
    "\n",
    "print(\"\\nNote: Similar texts have scores closer to 1.0\")"
   ]
  },
  {
   "cell_type": "markdown",
   "metadata": {},
   "source": [
    "## Example 3: Build a Vector Index"
   ]
  },
  {
   "cell_type": "code",
   "execution_count": 4,
   "metadata": {},
   "outputs": [
    {
     "name": "stdout",
     "output_type": "stream",
     "text": [
      "Initialized FAISS index (dim=384)\n",
      "Index Statistics:\n",
      "{'total_vectors': 4, 'total_metadata': 4, 'unique_files': 4, 'embedding_dim': 384, 'index_type': 'IndexFlatIP'}\n"
     ]
    }
   ],
   "source": [
    "# Create vector index\n",
    "index = VectorIndex(embedding_dim=generator.get_embedding_dim())\n",
    "\n",
    "# Create fake metadata for our example texts\n",
    "metadata_list = [\n",
    "    {'filepath': 'data/sst_satellite.nc', 'title': 'SST from Satellite', 'format': 'NetCDF'},\n",
    "    {'filepath': 'data/ocean_temp_modis.nc', 'title': 'Ocean Temp MODIS', 'format': 'NetCDF'},\n",
    "    {'filepath': 'data/pressure_sea_level.nc', 'title': 'Sea Level Pressure', 'format': 'NetCDF'},\n",
    "    {'filepath': 'data/wind_measurements.nc', 'title': 'Wind Speed', 'format': 'NetCDF'}\n",
    "]\n",
    "\n",
    "# Add to index\n",
    "index.add(embeddings, metadata_list)\n",
    "\n",
    "print(\"Index Statistics:\")\n",
    "print(index.get_stats())"
   ]
  },
  {
   "cell_type": "markdown",
   "metadata": {},
   "source": [
    "## Example 4: Search the Index"
   ]
  },
  {
   "cell_type": "code",
   "execution_count": 5,
   "metadata": {},
   "outputs": [
    {
     "name": "stdout",
     "output_type": "stream",
     "text": [
      "\n",
      "Query: 'ocean surface temperature'\n",
      "============================================================\n",
      "1. SST from Satellite\n",
      "   Score: 0.740\n",
      "   File: data/sst_satellite.nc\n",
      "2. Ocean Temp MODIS\n",
      "   Score: 0.662\n",
      "   File: data/ocean_temp_modis.nc\n",
      "\n",
      "Query: 'atmospheric data'\n",
      "============================================================\n",
      "1. Ocean Temp MODIS\n",
      "   Score: 0.548\n",
      "   File: data/ocean_temp_modis.nc\n",
      "2. Sea Level Pressure\n",
      "   Score: 0.526\n",
      "   File: data/pressure_sea_level.nc\n",
      "\n",
      "Query: 'wind information'\n",
      "============================================================\n",
      "1. Wind Speed\n",
      "   Score: 0.710\n",
      "   File: data/wind_measurements.nc\n",
      "2. Ocean Temp MODIS\n",
      "   Score: 0.354\n",
      "   File: data/ocean_temp_modis.nc\n"
     ]
    }
   ],
   "source": [
    "# Search queries\n",
    "queries = [\n",
    "    \"ocean surface temperature\",\n",
    "    \"atmospheric data\",\n",
    "    \"wind information\"\n",
    "]\n",
    "\n",
    "for query in queries:\n",
    "    print(f\"\\nQuery: '{query}'\")\n",
    "    print(\"=\" * 60)\n",
    "    \n",
    "    # Generate query embedding\n",
    "    query_embedding = generator.encode_single(query)\n",
    "    \n",
    "    # Search\n",
    "    results = index.search(query_embedding, top_k=2)\n",
    "    \n",
    "    for i, result in enumerate(results, 1):\n",
    "        print(f\"{i}. {result['title']}\")\n",
    "        print(f\"   Score: {result['similarity_score']:.3f}\")\n",
    "        print(f\"   File: {result['filepath']}\")"
   ]
  },
  {
   "cell_type": "markdown",
   "metadata": {},
   "source": [
    "## Example 5: Real Search Engine Test"
   ]
  },
  {
   "cell_type": "code",
   "execution_count": 6,
   "metadata": {},
   "outputs": [
    {
     "name": "stdout",
     "output_type": "stream",
     "text": [
      "Loading embedding model: sentence-transformers/all-MiniLM-L6-v2\n",
      "Model loaded. Embedding dimension: 384\n",
      "Loaded embedding cache: 2 entries\n",
      "Creating new index...\n",
      "Initialized FAISS index (dim=384)\n",
      "✓ Indexed: ocean_temperature.nc\n",
      "✓ Indexed: minimal_sst_20230515.nc\n",
      "\n",
      "Index stats: {'total_vectors': 2, 'total_metadata': 2, 'unique_files': 2, 'embedding_dim': 384, 'index_type': 'IndexFlatIP', 'model': 'sentence-transformers/all-MiniLM-L6-v2', 'cache_size': 4}\n"
     ]
    }
   ],
   "source": [
    "# Initialize search engine with our sample data\n",
    "engine = FAIRSearchEngine(load_existing=False)\n",
    "\n",
    "# Index the sample files we created\n",
    "sample_files = [\n",
    "    \"sample_data/ocean_temperature.nc\",\n",
    "    \"sample_data/minimal_sst_20230515.nc\"\n",
    "]\n",
    "\n",
    "for filepath in sample_files:\n",
    "    if Path(filepath).exists():\n",
    "        result = engine.index_file(Path(filepath), include_companions=True)\n",
    "        if result.get('success'):\n",
    "            print(f\"✓ Indexed: {Path(filepath).name}\")\n",
    "\n",
    "print(f\"\\nIndex stats: {engine.get_stats()}\")"
   ]
  },
  {
   "cell_type": "code",
   "execution_count": 7,
   "metadata": {},
   "outputs": [
    {
     "name": "stdout",
     "output_type": "stream",
     "text": [
      "\n",
      "============================================================\n",
      "Query: 'ocean temperature'\n",
      "============================================================\n",
      "\n",
      "1. minimal_sst_20230515.nc\n",
      "   Score: 0.618\n",
      "   Title: \n",
      "   Variables: time, lat, lon\n",
      "\n",
      "2. ocean_temperature.nc\n",
      "   Score: 0.596\n",
      "   Title: Sample Ocean Temperature Data\n",
      "   Variables: time, lat, lon\n",
      "\n",
      "============================================================\n",
      "Query: 'sea surface'\n",
      "============================================================\n",
      "\n",
      "1. ocean_temperature.nc\n",
      "   Score: 0.414\n",
      "   Title: Sample Ocean Temperature Data\n",
      "   Variables: time, lat, lon\n",
      "\n",
      "2. minimal_sst_20230515.nc\n",
      "   Score: 0.404\n",
      "   Title: \n",
      "   Variables: time, lat, lon\n",
      "\n",
      "============================================================\n",
      "Query: 'satellite measurements'\n",
      "============================================================\n",
      "\n",
      "1. minimal_sst_20230515.nc\n",
      "   Score: 0.307\n",
      "   Title: \n",
      "   Variables: time, lat, lon\n",
      "\n",
      "2. ocean_temperature.nc\n",
      "   Score: 0.305\n",
      "   Title: Sample Ocean Temperature Data\n",
      "   Variables: time, lat, lon\n",
      "\n",
      "============================================================\n",
      "Query: 'MODIS data'\n",
      "============================================================\n",
      "\n",
      "1. ocean_temperature.nc\n",
      "   Score: 0.373\n",
      "   Title: Sample Ocean Temperature Data\n",
      "   Variables: time, lat, lon\n",
      "\n",
      "2. minimal_sst_20230515.nc\n",
      "   Score: 0.298\n",
      "   Title: \n",
      "   Variables: time, lat, lon\n",
      "\n",
      "============================================================\n",
      "Query: 'temperature from 2023'\n",
      "============================================================\n",
      "\n",
      "1. minimal_sst_20230515.nc\n",
      "   Score: 0.443\n",
      "   Title: \n",
      "   Variables: time, lat, lon\n",
      "\n",
      "2. ocean_temperature.nc\n",
      "   Score: 0.376\n",
      "   Title: Sample Ocean Temperature Data\n",
      "   Variables: time, lat, lon\n"
     ]
    }
   ],
   "source": [
    "# Try various search queries\n",
    "test_queries = [\n",
    "    \"ocean temperature\",\n",
    "    \"sea surface\",\n",
    "    \"satellite measurements\",\n",
    "    \"MODIS data\",\n",
    "    \"temperature from 2023\"\n",
    "]\n",
    "\n",
    "for query in test_queries:\n",
    "    print(f\"\\n{'='*60}\")\n",
    "    print(f\"Query: '{query}'\")\n",
    "    print('='*60)\n",
    "    \n",
    "    results = engine.search(query, top_k=3)\n",
    "    \n",
    "    if results:\n",
    "        for i, result in enumerate(results, 1):\n",
    "            print(f\"\\n{i}. {Path(result['filepath']).name}\")\n",
    "            print(f\"   Score: {result['similarity_score']:.3f}\")\n",
    "            print(f\"   Title: {result.get('title', 'N/A')}\")\n",
    "            \n",
    "            # Show variables if available\n",
    "            if 'variables' in result:\n",
    "                var_names = list(result['variables'].keys())[:3]\n",
    "                print(f\"   Variables: {', '.join(var_names)}\")\n",
    "    else:\n",
    "        print(\"No results found\")"
   ]
  },
  {
   "cell_type": "markdown",
   "metadata": {},
   "source": [
    "## Example 6: Find Similar Datasets"
   ]
  },
  {
   "cell_type": "code",
   "execution_count": 8,
   "metadata": {},
   "outputs": [
    {
     "name": "stdout",
     "output_type": "stream",
     "text": [
      "Finding datasets similar to: ocean_temperature.nc\n",
      "============================================================\n",
      "\n",
      "1. ocean_temperature.nc\n",
      "   Score: 0.855\n",
      "   Shared variables: time, lat, lon\n",
      "\n",
      "2. minimal_sst_20230515.nc\n",
      "   Score: 0.726\n",
      "   Shared variables: time, lat, lon\n"
     ]
    }
   ],
   "source": [
    "# Find datasets similar to a reference file\n",
    "reference_file = Path(\"sample_data/ocean_temperature.nc\")\n",
    "\n",
    "if reference_file.exists():\n",
    "    print(f\"Finding datasets similar to: {reference_file.name}\")\n",
    "    print(\"=\" * 60)\n",
    "    \n",
    "    similar = engine.find_similar(reference_file, top_k=3)\n",
    "    \n",
    "    for i, result in enumerate(similar, 1):\n",
    "        print(f\"\\n{i}. {Path(result['filepath']).name}\")\n",
    "        print(f\"   Score: {result['similarity_score']:.3f}\")\n",
    "        \n",
    "        # Show why it's similar\n",
    "        if 'variables' in result:\n",
    "            vars_list = list(result['variables'].keys())[:3]\n",
    "            print(f\"   Shared variables: {', '.join(vars_list)}\")"
   ]
  },
  {
   "cell_type": "markdown",
   "metadata": {},
   "source": [
    "## Understanding Search Scores\n",
    "\n",
    "- **Score > 0.8**: Very relevant, likely what you're looking for\n",
    "- **Score 0.6-0.8**: Relevant, related datasets\n",
    "- **Score 0.4-0.6**: Somewhat related\n",
    "- **Score < 0.4**: Probably not what you want\n",
    "\n",
    "## Performance\n",
    "\n",
    "Let's measure search speed:"
   ]
  },
  {
   "cell_type": "code",
   "execution_count": 9,
   "metadata": {},
   "outputs": [
    {
     "name": "stdout",
     "output_type": "stream",
     "text": [
      "Average search time: 0.21 ms\n",
      "Searches per second: 4865\n",
      "\n",
      "Target: < 200ms per search ✓\n"
     ]
    }
   ],
   "source": [
    "import time\n",
    "\n",
    "# Benchmark search speed\n",
    "query = \"ocean temperature measurements\"\n",
    "num_searches = 100\n",
    "\n",
    "start = time.time()\n",
    "for _ in range(num_searches):\n",
    "    engine.search(query, top_k=10)\n",
    "end = time.time()\n",
    "\n",
    "avg_time_ms = (end - start) / num_searches * 1000\n",
    "print(f\"Average search time: {avg_time_ms:.2f} ms\")\n",
    "print(f\"Searches per second: {1000/avg_time_ms:.0f}\")\n",
    "print(\"\\nTarget: < 200ms per search ✓\" if avg_time_ms < 200 else \"Target: < 200ms per search ✗\")"
   ]
  },
  {
   "cell_type": "markdown",
   "metadata": {},
   "source": [
    "## Save and Load Index"
   ]
  },
  {
   "cell_type": "code",
   "execution_count": 10,
   "metadata": {},
   "outputs": [
    {
     "name": "stdout",
     "output_type": "stream",
     "text": [
      "Index saved to /home/vastdata/vast-fair-stack/lib/indexes/faiss_index.bin\n",
      "✓ Index saved\n",
      "\n",
      "Index can be loaded with:\n",
      "  engine = FAIRSearchEngine(load_existing=True)\n"
     ]
    }
   ],
   "source": [
    "# Save index\n",
    "engine.save()\n",
    "print(\"✓ Index saved\")\n",
    "\n",
    "# Can be loaded later\n",
    "print(\"\\nIndex can be loaded with:\")\n",
    "print(\"  engine = FAIRSearchEngine(load_existing=True)\")"
   ]
  },
  {
   "cell_type": "markdown",
   "metadata": {},
   "source": [
    "## Key Takeaways\n",
    "\n",
    "1. **Semantic Understanding**: Vector search finds meaning, not just keywords\n",
    "2. **Fast Performance**: FAISS enables sub-second search even with large indexes\n",
    "3. **Local and Free**: Everything runs on your machine, no API calls\n",
    "4. **Persistent Storage**: Index saves to disk for reuse\n",
    "\n",
    "## Next Steps\n",
    "\n",
    "- **Notebook 05**: Batch indexing of large datasets\n",
    "- **Notebook 06**: Optional LLM enrichment\n",
    "- **Notebook 99**: Complete workflow examples"
   ]
  },
  {
   "cell_type": "code",
   "execution_count": null,
   "metadata": {},
   "outputs": [],
   "source": []
  }
 ],
 "metadata": {
  "kernelspec": {
   "display_name": "Python 3 (ipykernel)",
   "language": "python",
   "name": "python3"
  },
  "language_info": {
   "codemirror_mode": {
    "name": "ipython",
    "version": 3
   },
   "file_extension": ".py",
   "mimetype": "text/x-python",
   "name": "python",
   "nbconvert_exporter": "python",
   "pygments_lexer": "ipython3",
   "version": "3.11.4"
  }
 },
 "nbformat": 4,
 "nbformat_minor": 4
}
